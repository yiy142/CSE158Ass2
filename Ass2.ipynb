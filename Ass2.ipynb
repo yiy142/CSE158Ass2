{
 "cells": [
  {
   "cell_type": "code",
   "execution_count": null,
   "metadata": {},
   "outputs": [],
   "source": [
    "import gzip\n",
    "from collections import defaultdict\n",
    "\n",
    "def readGz(f):\n",
    "    for l in gzip.open(f):\n",
    "        yield eval(l)\n",
    "\n",
    "### Rating baseline: compute averages for each user, or return the global average if we've never seen the user before\n",
    "user_review_data = []\n",
    "\n",
    "for l in readGz(\"australian_user_reviews.json.gz\"):\n",
    "    user_review_data.append(l)\n",
    "\n",
    "print(len(user_review_data))\n",
    "\n",
    "user_review_data[0]\n",
    "\n",
    "import gzip\n",
    "from collections import defaultdict\n",
    "\n",
    "def readGz(f):\n",
    "    for l in gzip.open(f):\n",
    "        yield eval(l)\n",
    "\n",
    "### Rating baseline: compute averages for each user, or return the global average if we've never seen the user before\n",
    "user_item_data = []\n",
    "\n",
    "for l in readGz(\"australian_users_items.json.gz\"):\n",
    "    user_item_data.append(l)\n",
    "\n",
    "len(user_item_data)\n",
    "\n",
    "import gzip\n",
    "from collections import defaultdict\n",
    "\n",
    "def readGz(f):\n",
    "    for l in gzip.open(f):\n",
    "        yield eval(l)\n",
    "\n",
    "### Rating baseline: compute averages for each user, or return the global average if we've never seen the user before\n",
    "bundle_data = []\n",
    "\n",
    "for l in readGz(\"bundle_data.json.gz\"):\n",
    "    bundle_data.append(l)\n",
    "\n",
    "len(bundle_data)"
   ]
  }
 ],
 "metadata": {
  "kernelspec": {
   "display_name": "Python 3",
   "language": "python",
   "name": "python3"
  },
  "language_info": {
   "codemirror_mode": {
    "name": "ipython",
    "version": 3
   },
   "file_extension": ".py",
   "mimetype": "text/x-python",
   "name": "python",
   "nbconvert_exporter": "python",
   "pygments_lexer": "ipython3",
   "version": "3.6.5"
  }
 },
 "nbformat": 4,
 "nbformat_minor": 2
}
